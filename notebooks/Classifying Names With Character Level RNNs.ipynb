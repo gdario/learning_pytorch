{
 "cells": [
  {
   "cell_type": "markdown",
   "metadata": {},
   "source": [
    "# Classifying Names with a Character Level RNN\n",
    "\n",
    "In this tutorial we try to predict the nationality of a name by processing it through a bidirectional LSTM one character at a time. We have 18 input files, each corresponding to a different nationality. We will store the names in a dictionary of the form `{'Nationality': [name1, name2, ...], ...}`. The [`glob` module](https://docs.python.org/3/library/glob.html) is more convenient than `os.listdir` for this purpsose, as it returns the full path."
   ]
  },
  {
   "cell_type": "code",
   "execution_count": 1,
   "metadata": {},
   "outputs": [
    {
     "name": "stdout",
     "output_type": "stream",
     "text": [
      "['../data/names/German.txt', '../data/names/Arabic.txt', '../data/names/Vietnamese.txt', '../data/names/Dutch.txt', '../data/names/Polish.txt', '../data/names/Portuguese.txt', '../data/names/Scottish.txt', '../data/names/Korean.txt', '../data/names/Irish.txt', '../data/names/Russian.txt', '../data/names/Czech.txt', '../data/names/Greek.txt', '../data/names/Italian.txt', '../data/names/Spanish.txt', '../data/names/French.txt', '../data/names/Japanese.txt', '../data/names/English.txt', '../data/names/Chinese.txt']\n"
     ]
    }
   ],
   "source": [
    "# from io import open\n",
    "import os\n",
    "import glob\n",
    "import string\n",
    "from functools import reduce\n",
    "import random\n",
    "import numpy as np\n",
    "import matplotlib.pyplot as plt\n",
    "import torch\n",
    "from torch.autograd import Variable\n",
    "import torch.nn as nn\n",
    "from torch.nn import functional as F\n",
    "import torch.optim as optim\n",
    "\n",
    "%matplotlib inline\n",
    "\n",
    "file_list = glob.glob('../data/names/*.txt')\n",
    "print(file_list)"
   ]
  },
  {
   "cell_type": "markdown",
   "metadata": {},
   "source": [
    "Let's create the dictionary:"
   ]
  },
  {
   "cell_type": "code",
   "execution_count": 2,
   "metadata": {},
   "outputs": [
    {
     "name": "stdout",
     "output_type": "stream",
     "text": [
      "['Abbing', 'Abel', 'Abeln', 'Abt']\n",
      "dict_keys(['German', 'Arabic', 'Vietnamese', 'Dutch', 'Polish', 'Portuguese', 'Scottish', 'Korean', 'Irish', 'Russian', 'Czech', 'Greek', 'Italian', 'Spanish', 'French', 'Japanese', 'English', 'Chinese'])\n"
     ]
    }
   ],
   "source": [
    "category_lines = {}\n",
    "\n",
    "for file_name in file_list:\n",
    "    nationality = os.path.basename(os.path.splitext(file_name)[0])\n",
    "    name_list = []\n",
    "    for line in open(file_name, 'r'):\n",
    "        name_list.append(line.rstrip())\n",
    "    category_lines[nationality] = name_list\n",
    "\n",
    "print(category_lines['German'][:4])\n",
    "print(category_lines.keys())"
   ]
  },
  {
   "cell_type": "markdown",
   "metadata": {},
   "source": [
    "Some of the names contain accents and other non-ASCII characters that can make things complicated. We may convert all the characters to plain ASCII, as shown in the vignette, but our task would probably be easier if we could account for the non-ASCII characters. Some characters, for exaample, are specific of Polish, so encountering one of such characters would be already a strong hint that the name is indeed Polish. Let's try this approach, which deviates from the one in the [tutorial](http://pytorch.org/tutorials/intermediate/char_rnn_classification_tutorial.html). We read each file in turn, and for each file we extract the set of unique characters."
   ]
  },
  {
   "cell_type": "code",
   "execution_count": 3,
   "metadata": {},
   "outputs": [],
   "source": [
    "def get_unique_characters(filename):\n",
    "    character_sets = []\n",
    "    for name in open(filename, 'r'):\n",
    "        character_sets.append(set(name.lower()))\n",
    "    unique_characters = reduce(set.union, character_sets)\n",
    "    return unique_characters"
   ]
  },
  {
   "cell_type": "markdown",
   "metadata": {},
   "source": [
    "Let's try with the first element of `file_list`, which contains the German names."
   ]
  },
  {
   "cell_type": "code",
   "execution_count": 4,
   "metadata": {},
   "outputs": [
    {
     "name": "stdout",
     "output_type": "stream",
     "text": [
      "{'d', 'm', 'e', 'q', 's', 'ß', 'h', 'y', 'v', 'b', 'f', 'c', 'z', 'p', 'l', 'j', 'a', 'r', 'k', '\\n', 'x', 'ü', 'n', 'u', 'o', 'g', 'ä', 'w', 't', ' ', 'i', 'ö'}\n",
      "32\n"
     ]
    }
   ],
   "source": [
    "unique_german = get_unique_characters(file_list[0])\n",
    "print(unique_german)\n",
    "print(len(unique_german))"
   ]
  },
  {
   "cell_type": "markdown",
   "metadata": {},
   "source": [
    "Let's run this method on all files:"
   ]
  },
  {
   "cell_type": "code",
   "execution_count": 5,
   "metadata": {},
   "outputs": [
    {
     "name": "stdout",
     "output_type": "stream",
     "text": [
      "{'d', 'e', 'q', 's', 'h', 'y', 'v', 'c', 'z', 'p', 'j', 'é', '\\xa0', 'r', 'ê', 'k', '\\n', 'x', 'ą', 'n', 'o', 'ì', 'ó', 'w', 'ł', 'á', 't', ' ', \"'\", 'õ', ':', 'm', '/', 'í', 'ß', 'ú', 'b', 'f', 'ã', 'ñ', 'l', 'ż', 'a', '1', 'ś', ',', 'è', 'ü', '-', 'u', 'g', 'ä', 'ù', 'i', 'ö', 'à', 'ò', 'ń', 'ç'}\n",
      "59\n"
     ]
    }
   ],
   "source": [
    "all_unique_characters = [get_unique_characters(f) for f in file_list]\n",
    "all_unique_characters = reduce(set.union, all_unique_characters)\n",
    "print(all_unique_characters)\n",
    "print(len(all_unique_characters))"
   ]
  },
  {
   "cell_type": "markdown",
   "metadata": {},
   "source": [
    "This gives us all the characters appearing in the files. We can turn this into a dictionary to later create one-hot encodings of the individual characters."
   ]
  },
  {
   "cell_type": "code",
   "execution_count": 6,
   "metadata": {},
   "outputs": [
    {
     "name": "stdout",
     "output_type": "stream",
     "text": [
      "{'d': 0, 'e': 1, 'q': 2, 's': 3, 'h': 4, 'y': 5, 'v': 6, 'c': 7, 'z': 8, 'p': 9, 'j': 10, 'é': 11, '\\xa0': 12, 'r': 13, 'ê': 14, 'k': 15, '\\n': 16, 'x': 17, 'ą': 18, 'n': 19, 'o': 20, 'ì': 21, 'ó': 22, 'w': 23, 'ł': 24, 'á': 25, 't': 26, ' ': 27, \"'\": 28, 'õ': 29, ':': 30, 'm': 31, '/': 32, 'í': 33, 'ß': 34, 'ú': 35, 'b': 36, 'f': 37, 'ã': 38, 'ñ': 39, 'l': 40, 'ż': 41, 'a': 42, '1': 43, 'ś': 44, ',': 45, 'è': 46, 'ü': 47, '-': 48, 'u': 49, 'g': 50, 'ä': 51, 'ù': 52, 'i': 53, 'ö': 54, 'à': 55, 'ò': 56, 'ń': 57, 'ç': 58}\n"
     ]
    }
   ],
   "source": [
    "character_dict = {char: ix for ix, char in enumerate(all_unique_characters)}\n",
    "print(character_dict)"
   ]
  },
  {
   "cell_type": "markdown",
   "metadata": {},
   "source": [
    "In order to build a name classifier we need to turn the names into character tensors. In our dictionary there are 59 characters, so each name should be represented as a tensor of shape $(l_n, 1, 59)$, where $l_n$ is the length of the name."
   ]
  },
  {
   "cell_type": "code",
   "execution_count": 7,
   "metadata": {},
   "outputs": [],
   "source": [
    "def name_to_tensor(name, dictionary=character_dict):\n",
    "    len_name = len(name)\n",
    "    len_dictionary = len(dictionary)\n",
    "    output = torch.zeros(len_name, len_dictionary)\n",
    "    for k in range(len_name):\n",
    "        output[k, dictionary[name[k]]] = 1\n",
    "    output = output.view(len_name, 1, len_dictionary)\n",
    "    return Variable(output)"
   ]
  },
  {
   "cell_type": "markdown",
   "metadata": {},
   "source": [
    "Let's see if this function returns something sensible. We test on a fake surname consisting of the first three keys in the dictionary."
   ]
  },
  {
   "cell_type": "code",
   "execution_count": 8,
   "metadata": {},
   "outputs": [
    {
     "data": {
      "text/plain": [
       "Variable containing:\n",
       "(0 ,.,.) = \n",
       "\n",
       "Columns 0 to 18 \n",
       "    0   0   0   0   0   0   1   0   0   0   0   0   0   0   0   0   0   0   0\n",
       "\n",
       "Columns 19 to 37 \n",
       "    0   0   0   0   0   0   0   0   0   0   0   0   0   0   0   0   0   0   0\n",
       "\n",
       "Columns 38 to 56 \n",
       "    0   0   0   0   0   0   0   0   0   0   0   0   0   0   0   0   0   0   0\n",
       "\n",
       "Columns 57 to 58 \n",
       "    0   0\n",
       "\n",
       "(1 ,.,.) = \n",
       "\n",
       "Columns 0 to 18 \n",
       "    0   0   0   0   0   0   0   0   0   0   0   0   0   0   0   0   0   0   0\n",
       "\n",
       "Columns 19 to 37 \n",
       "    0   0   0   0   0   0   0   0   1   0   0   0   0   0   0   0   0   0   0\n",
       "\n",
       "Columns 38 to 56 \n",
       "    0   0   0   0   0   0   0   0   0   0   0   0   0   0   0   0   0   0   0\n",
       "\n",
       "Columns 57 to 58 \n",
       "    0   0\n",
       "\n",
       "(2 ,.,.) = \n",
       "\n",
       "Columns 0 to 18 \n",
       "    0   0   0   0   0   0   0   0   0   0   0   0   0   0   0   0   0   1   0\n",
       "\n",
       "Columns 19 to 37 \n",
       "    0   0   0   0   0   0   0   0   0   0   0   0   0   0   0   0   0   0   0\n",
       "\n",
       "Columns 38 to 56 \n",
       "    0   0   0   0   0   0   0   0   0   0   0   0   0   0   0   0   0   0   0\n",
       "\n",
       "Columns 57 to 58 \n",
       "    0   0\n",
       "[torch.FloatTensor of size 3x1x59]"
      ]
     },
     "execution_count": 8,
     "metadata": {},
     "output_type": "execute_result"
    }
   ],
   "source": [
    "name_to_tensor('v x')"
   ]
  },
  {
   "cell_type": "markdown",
   "metadata": {},
   "source": [
    "Now we need to encode the nationality into a long tensor."
   ]
  },
  {
   "cell_type": "code",
   "execution_count": 9,
   "metadata": {},
   "outputs": [],
   "source": [
    "nationality_dict = {nationality: ix for ix, nationality in enumerate(category_lines.keys())}\n",
    "\n",
    "def nationality_to_tensor(nationality, dictionary=nationality_dict):\n",
    "    nationality_tensor = torch.LongTensor([dictionary[nationality]])\n",
    "    return Variable(nationality_tensor)"
   ]
  },
  {
   "cell_type": "markdown",
   "metadata": {},
   "source": [
    "As before, let's check if this works. The first key is 'German', so the first element of the output should be a 1."
   ]
  },
  {
   "cell_type": "code",
   "execution_count": 10,
   "metadata": {},
   "outputs": [
    {
     "name": "stdout",
     "output_type": "stream",
     "text": [
      "{'German': 0, 'Arabic': 1, 'Vietnamese': 2, 'Dutch': 3, 'Polish': 4, 'Portuguese': 5, 'Scottish': 6, 'Korean': 7, 'Irish': 8, 'Russian': 9, 'Czech': 10, 'Greek': 11, 'Italian': 12, 'Spanish': 13, 'French': 14, 'Japanese': 15, 'English': 16, 'Chinese': 17}\n"
     ]
    },
    {
     "data": {
      "text/plain": [
       "Variable containing:\n",
       " 0\n",
       "[torch.LongTensor of size 1]"
      ]
     },
     "execution_count": 10,
     "metadata": {},
     "output_type": "execute_result"
    }
   ],
   "source": [
    "print(nationality_dict)\n",
    "nationality_to_tensor('German')"
   ]
  },
  {
   "cell_type": "markdown",
   "metadata": {},
   "source": [
    "In the [tutorial](http://pytorch.org/tutorials/intermediate/char_rnn_classification_tutorial.html) there are slightly different, and probably more efficient implementations, of these functions."
   ]
  },
  {
   "cell_type": "markdown",
   "metadata": {},
   "source": [
    "## Model creation\n",
    "\n",
    "We can now build one or more models to see how well (or badly) we perform on this task. We can start with a simple model with one single LSTM layer. Here we feed the one-hot encoded characters to the LSTM. There are a few things to note in this model:\n",
    "\n",
    "1. the `hidden_dim` parameter is stored in a class attribute for later use in `init_hidden`.\n",
    "2. `self.hidden` is initialized by `init_hidden` when we instantiate the class. The object we obtain is therefore already initialized.\n",
    "3. The `self.lstm_output` tensor still has shape (1, 1, num_nationalities). This is why we need to reshape it.\n",
    "\n",
    "Finally note that here we are making an experiment. We take the hidden state of the last step of the LSTM, and we feed it into the fully connected layer."
   ]
  },
  {
   "cell_type": "code",
   "execution_count": 11,
   "metadata": {},
   "outputs": [],
   "source": [
    "class SimpleLSTM(nn.Module):\n",
    "    \n",
    "    def __init__(self, hidden_dim, vocabulary_size, num_nationalities):\n",
    "        super(SimpleLSTM, self).__init__()\n",
    "        self.hidden_dim = hidden_dim\n",
    "        self.num_nationalities = num_nationalities\n",
    "        self.lstm = nn.LSTM(input_size=vocabulary_size, hidden_size=hidden_dim)\n",
    "        self.linear = nn.Linear(in_features=hidden_dim, out_features=num_nationalities)\n",
    "        self.hidden = self.init_hidden()\n",
    "        \n",
    "    def init_hidden(self):\n",
    "        return (Variable(torch.zeros(1, 1, self.hidden_dim)), \n",
    "                Variable(torch.zeros(1, 1, self.hidden_dim)))\n",
    "    \n",
    "    def forward(self, inputs):\n",
    "        lstm_output, lstm_hidden = self.lstm(inputs, self.hidden)\n",
    "        last_output = lstm_output[len(inputs) - 1]\n",
    "        output = self.linear(last_output)\n",
    "        output = F.log_softmax(output, dim=1)\n",
    "        return output"
   ]
  },
  {
   "cell_type": "markdown",
   "metadata": {},
   "source": [
    "Let's instantiate this class and apply it to one input"
   ]
  },
  {
   "cell_type": "code",
   "execution_count": 12,
   "metadata": {},
   "outputs": [
    {
     "name": "stdout",
     "output_type": "stream",
     "text": [
      "8 59 18\n"
     ]
    }
   ],
   "source": [
    "HIDDEN_DIM = 8\n",
    "VOCABULARY_SIZE = len(character_dict)\n",
    "NUM_NATIONALITIES = len(nationality_dict)\n",
    "\n",
    "print(HIDDEN_DIM, VOCABULARY_SIZE, NUM_NATIONALITIES)"
   ]
  },
  {
   "cell_type": "code",
   "execution_count": 13,
   "metadata": {},
   "outputs": [],
   "source": [
    "simple_lstm = SimpleLSTM(HIDDEN_DIM, VOCABULARY_SIZE, NUM_NATIONALITIES)"
   ]
  },
  {
   "cell_type": "code",
   "execution_count": 14,
   "metadata": {
    "scrolled": false
   },
   "outputs": [
    {
     "data": {
      "text/plain": [
       "Variable containing:\n",
       "\n",
       "Columns 0 to 9 \n",
       "-2.7548 -3.0228 -2.9007 -2.9889 -3.1759 -2.9469 -3.0174 -2.7576 -2.5518 -2.7996\n",
       "\n",
       "Columns 10 to 17 \n",
       "-2.7950 -2.9458 -2.9164 -2.8029 -2.7879 -3.0171 -2.9504 -3.0852\n",
       "[torch.FloatTensor of size 1x18]"
      ]
     },
     "execution_count": 14,
     "metadata": {},
     "output_type": "execute_result"
    }
   ],
   "source": [
    "test_name = name_to_tensor('sierpinsky')\n",
    "output = simple_lstm(test_name)\n",
    "output"
   ]
  },
  {
   "cell_type": "markdown",
   "metadata": {},
   "source": [
    "Let's create an optimizer to be applied to the model parameters."
   ]
  },
  {
   "cell_type": "code",
   "execution_count": 15,
   "metadata": {},
   "outputs": [],
   "source": [
    "loss_function = nn.NLLLoss()\n",
    "optimizer = optim.SGD(simple_lstm.parameters(), lr=0.1)"
   ]
  },
  {
   "cell_type": "markdown",
   "metadata": {},
   "source": [
    "We can now iterate on the inputs and train. We need something that can generate random {name, nationality} pairs. To this end, we create a helper function."
   ]
  },
  {
   "cell_type": "code",
   "execution_count": 16,
   "metadata": {},
   "outputs": [],
   "source": [
    "def get_random_pair(input_dictionary):\n",
    "    nationalities = list(input_dictionary.keys())\n",
    "    nationality = random.choice(nationalities)\n",
    "    name = random.choice(input_dictionary[nationality])\n",
    "    return name_to_tensor(name.lower()), nationality_to_tensor(nationality)"
   ]
  },
  {
   "cell_type": "markdown",
   "metadata": {},
   "source": [
    "We must be careful to turn the output names to lowercase, to avoid problems when converting to a tensor, as the character dictionary doesn't comprise uppercase characters."
   ]
  },
  {
   "cell_type": "code",
   "execution_count": 17,
   "metadata": {},
   "outputs": [
    {
     "name": "stdout",
     "output_type": "stream",
     "text": [
      "torch.Size([5, 1, 59])\n",
      "torch.Size([1])\n",
      "<class 'torch.autograd.variable.Variable'> <class 'torch.autograd.variable.Variable'>\n"
     ]
    }
   ],
   "source": [
    "test_name, test_nationality = get_random_pair(category_lines)\n",
    "print(test_name.size())\n",
    "print(test_nationality.size())\n",
    "print(type(test_name), type(test_nationality))"
   ]
  },
  {
   "cell_type": "code",
   "execution_count": 28,
   "metadata": {},
   "outputs": [
    {
     "name": "stdout",
     "output_type": "stream",
     "text": [
      "Epoch: 0\n",
      "Epoch: 1\n",
      "Epoch: 2\n",
      "Epoch: 3\n",
      "Epoch: 4\n",
      "Epoch: 5\n",
      "Epoch: 6\n",
      "Epoch: 7\n",
      "Epoch: 8\n",
      "Epoch: 9\n",
      "Epoch: 10\n",
      "Epoch: 11\n",
      "Epoch: 12\n",
      "Epoch: 13\n",
      "Epoch: 14\n",
      "Epoch: 15\n",
      "Epoch: 16\n",
      "Epoch: 17\n",
      "Epoch: 18\n",
      "Epoch: 19\n",
      "Epoch: 20\n",
      "Epoch: 21\n",
      "Epoch: 22\n",
      "Epoch: 23\n",
      "Epoch: 24\n",
      "Epoch: 25\n",
      "Epoch: 26\n",
      "Epoch: 27\n",
      "Epoch: 28\n",
      "Epoch: 29\n"
     ]
    }
   ],
   "source": [
    "NUM_EPOCHS = 30\n",
    "STEPS_PER_EPOCH = 1000\n",
    "\n",
    "loss_history = []\n",
    "\n",
    "k = 0\n",
    "for epoch in range(NUM_EPOCHS):\n",
    "    print('Epoch: {}'.format(epoch))\n",
    "    for step in range(STEPS_PER_EPOCH):\n",
    "        simple_lstm.zero_grad()\n",
    "        simple_lstm.hidden = simple_lstm.init_hidden()\n",
    "        input, target = get_random_pair(category_lines)\n",
    "        output_scores = simple_lstm(input)\n",
    "        loss = loss_function(output_scores, target)\n",
    "        if k % 100 == 0:\n",
    "            loss_history.append(loss.data.numpy()[0])\n",
    "        loss.backward()\n",
    "        optimizer.step()\n",
    "        k += 1"
   ]
  },
  {
   "cell_type": "markdown",
   "metadata": {},
   "source": [
    "Let's check that the loss has actually decreased during training."
   ]
  },
  {
   "cell_type": "code",
   "execution_count": 33,
   "metadata": {},
   "outputs": [
    {
     "name": "stdout",
     "output_type": "stream",
     "text": [
      "[1.4345362, 0.45775518, 2.278161, 4.8217554, 2.387222, 2.4770122, 0.15617909, 1.6518058, 0.24032326, 0.0059923823, 0.51312333, 1.8279037, 0.734622, 0.24847049, 0.8013752, 3.178698, 0.082784995, 0.4086973, 1.7454914, 1.4621563, 1.5288228, 2.8329573, 1.7850094, 0.5976076, 2.2369452, 0.13403773, 0.15101944, 0.028004328, 2.571294, 0.5246396, 0.16596869, 2.5890825, 0.5323, 2.4483232, 0.98805803, 0.031101838, 0.033280198, 0.24636875, 1.1190886, 0.3713911, 0.015798736, 1.1042222, 0.41999847, 1.6976091, 2.6918552, 1.7196851, 1.3576381, 2.7320142, 0.83970755, 0.0047142114, 1.4361687, 0.8265884, 4.3237934, 0.4301912, 4.7381263, 4.207761, 2.449709, 2.2202866, 1.8369769, 3.0114343, 1.0969951, 1.109471, 0.9334187, 1.5463387, 1.1602281, 5.619881, 3.4947484, 0.39471126, 0.035193734, 4.226609, 0.61533755, 2.5438633, 0.4348335, 0.7458245, 0.2050372, 0.009121669, 0.63466704, 2.1136425, 0.3441364, 1.0071946, 0.78750646, 0.8561999, 1.9728681, 0.33702397, 0.07361834, 0.16518246, 0.0023275404, 1.3618143, 2.2090147, 0.11919306, 1.6334043, 1.1641603, 0.9936777, 3.208517, 0.98567045, 1.2128537, 2.546632, 0.75125384, 0.003262467, 0.2269688, 0.25450626, 1.9265871, 4.0411787, 0.28705135, 1.6161689, 5.204006, 0.86460996, 0.53602564, 2.3636582, 0.9766577, 2.5273547, 1.8200662, 0.6734514, 0.79997724, 1.0510055, 1.0010473, 0.5848764, 1.6941665, 1.1105089, 6.274147, 1.6005744, 0.22533108, 3.3804727, 0.9563801, 0.010843065, 0.3137258, 0.41089037, 3.2445598, 1.1813937, 0.5343321, 1.800064, 0.67945236, 0.14919864, 1.0573767, 1.3834016, 1.6711783, 1.4424397, 0.3791811, 1.5543892, 0.119774505, 5.786064, 0.09620871, 1.5191016, 1.3759989, 0.8961607, 0.5367028, 0.27945122, 1.0398839, 1.505901, 3.3912795, 1.6278415, 0.4408604, 0.073132694, 0.41514188, 0.23593095, 5.0247955, 1.17446, 0.09507174, 10.329093, 0.64716727, 2.1793194, 0.030755296, 0.68040955, 1.8123285, 0.5524582, 2.0662477, 1.320829, 1.0068823, 0.9780827, 1.7658235, 2.728289, 0.4829017, 1.9405061, 0.5941631, 4.812603, 0.19577186, 0.26729468, 2.0802674, 5.0416536, 2.517573, 2.5815427, 4.3699455, 0.19224758, 1.1490489, 0.3383419, 1.2545335, 0.07465784, 0.060737714, 0.4356242, 2.9059634, 0.5892283, 2.5471673, 0.19603612, 3.9468174, 4.656449, 0.5849688, 1.1917874, 2.1871672, 0.010686807, 0.3922109, 2.764728, 0.45625317, 1.9537255, 0.50493455, 1.8122816, 3.155959, 0.19310626, 0.15127307, 0.5716292, 2.7376285, 1.2382681, 0.007166277, 2.9148288, 1.1805066, 0.5728905, 0.27392504, 0.6172587, 0.0086249625, 1.6793796, 1.2730938, 1.0111272, 0.82215774, 0.2840023, 1.8207318, 1.3184868, 1.2586746, 0.38202447, 2.115025, 2.1039135, 0.3929656, 3.7813122, 1.0623628, 2.0452464, 1.5991045, 0.88850886, 0.43286368, 3.320683, 0.18279567, 1.6642635, 3.70085, 1.8547025, 1.4926834, 0.90861124, 0.23788711, 0.007790212, 0.44053596, 0.93015367, 1.4902924, 3.7219641, 0.20062163, 0.22810861, 1.0394361, 1.2865033, 2.146861, 2.295862, 0.8205291, 3.3517764, 1.9784782, 0.16199893, 2.4348235, 0.27629328, 0.13067117, 2.7457666, 1.4799744, 2.6962945, 2.8257287, 4.0366936, 1.1142533, 0.60197026, 3.3736413, 1.0068961, 0.067888446, 2.0332236, 2.9172266, 2.6333158, 0.35312846, 2.064409, 1.029498, 1.4969449, 0.014179637, 1.4258411, 1.1906163, 2.080821, 0.31820446, 3.3690734, 1.682776, 1.0925826, 5.633919, 0.5196398, 0.8277763, 0.024437893, 1.5409033, 0.79763764, 0.29620153, 1.7513325, 2.0029392, 1.6376553, 2.6646855, 2.8094451, 0.00392615]\n"
     ]
    },
    {
     "data": {
      "text/plain": [
       "[<matplotlib.lines.Line2D at 0x7f53fd853860>]"
      ]
     },
     "execution_count": 33,
     "metadata": {},
     "output_type": "execute_result"
    },
    {
     "data": {
      "image/png": "[encoded data removed]",
      "text/plain": [
       "<matplotlib.figure.Figure at 0x7f53fd78e2b0>"
      ]
     },
     "metadata": {},
     "output_type": "display_data"
    }
   ],
   "source": [
    "print(loss_history)\n",
    "plt.plot(range(len(loss_history)), loss_history, 'o')"
   ]
  },
  {
   "cell_type": "markdown",
   "metadata": {},
   "source": [
    "Let's see a prediction on the trained model. We revert the nationality dictionary and create a utility function that prints the output indexes."
   ]
  },
  {
   "cell_type": "code",
   "execution_count": null,
   "metadata": {},
   "outputs": [],
   "source": [
    "ix_to_nationality = {ix: nationality for nationality, ix in nationality_dict.items()}\n",
    "\n",
    "def print_predicted_classes(name, k=3):\n",
    "    name = name_to_tensor(name)\n",
    "    class_score = simple_lstm(name)\n",
    "    val, idx = class_score.topk(k, 1)\n",
    "    idx = idx.data.numpy().flatten()\n",
    "    for i in idx:\n",
    "        print(ix_to_nationality[i])"
   ]
  },
  {
   "cell_type": "code",
   "execution_count": null,
   "metadata": {},
   "outputs": [],
   "source": [
    "print_predicted_classes('ferrauto')"
   ]
  },
  {
   "cell_type": "code",
   "execution_count": null,
   "metadata": {},
   "outputs": [],
   "source": [
    "print_predicted_classes('van der waals')"
   ]
  },
  {
   "cell_type": "code",
   "execution_count": null,
   "metadata": {},
   "outputs": [],
   "source": [
    "print_predicted_classes('soares')"
   ]
  },
  {
   "cell_type": "code",
   "execution_count": null,
   "metadata": {},
   "outputs": [],
   "source": [
    "print_predicted_classes('yamamoto')"
   ]
  },
  {
   "cell_type": "code",
   "execution_count": null,
   "metadata": {},
   "outputs": [],
   "source": [
    "print_predicted_classes('dermitzakis')"
   ]
  },
  {
   "cell_type": "code",
   "execution_count": null,
   "metadata": {},
   "outputs": [],
   "source": [
    "print_predicted_classes('messner')"
   ]
  },
  {
   "cell_type": "code",
   "execution_count": null,
   "metadata": {},
   "outputs": [],
   "source": []
  }
 ],
 "metadata": {
  "kernelspec": {
   "display_name": "Python 3",
   "language": "python",
   "name": "python3"
  },
  "language_info": {
   "codemirror_mode": {
    "name": "ipython",
    "version": 3
   },
   "file_extension": ".py",
   "mimetype": "text/x-python",
   "name": "python",
   "nbconvert_exporter": "python",
   "pygments_lexer": "ipython3",
   "version": "3.6.4"
  }
 },
 "nbformat": 4,
 "nbformat_minor": 2
}
