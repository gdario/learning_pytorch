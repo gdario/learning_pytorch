{
 "cells": [
  {
   "cell_type": "markdown",
   "metadata": {},
   "source": [
    "# Introduction to PyTorch\n",
    "\n",
    "In this notebook we take a first look at the `torch.Tensor` class. This class is, in many respects, similar to numpy arrays, but has a number of special methods and attributes."
   ]
  },
  {
   "cell_type": "markdown",
   "metadata": {},
   "source": [
    "## Tensors"
   ]
  },
  {
   "cell_type": "markdown",
   "metadata": {},
   "source": [
    "## Variables\n",
    "\n",
    "A `Variable` is a thin wrapper around a `Tensor` object, that also holds the gradient w.r.t. to it, and a reference to a function that created it. This reference allows retracing the whole chain of operations that created the data. If the Variable has been created by the user, its `grad_fn`will be `None` and we call such objects *leaf* Variables.\n",
    "\n",
    "If the variable has *not* been created by the user, its `grad_fn` refers to a `Function` object that has created the variable. The combination of `grad_fn` and `Function` defines an acyclic graph of operations (the forward step) on which we can call the `backward()` operation. \n",
    "\n",
    "The `Tensor` object the variable is wrapped around is contained in the `data` attribute. The gradient is stored in the `grad` attribute, it matches type and location of `data` and cannot be reassigned. The `requires_grad` attribute allows excluding subgraphs. The `excluding-subgraphs` section referred to below can be found [here](http://pytorch.org/docs/master/notes/autograd.html?highlight=excluding%20subgraphs)\n",
    "\n",
    "Since autograd only supports scalar valued function differentiation, grad size always matches the data size. Also, grad is normally only allocated for leaf variables, and will be always zero otherwise."
   ]
  },
  {
   "cell_type": "raw",
   "metadata": {},
   "source": [
    "Attributes:\n",
    "    data: Wrapped tensor of any type.\n",
    "    grad: Variable holding the gradient of type and location matching\n",
    "        the ``.data``.  This attribute is lazily allocated and can't\n",
    "        be reassigned.\n",
    "    requires_grad: Boolean indicating whether the Variable has been\n",
    "        created by a subgraph containing any Variable, that requires it.\n",
    "        See :ref:`excluding-subgraphs` for more details.\n",
    "        Can be changed only on leaf Variables.\n",
    "    volatile: Boolean indicating that the Variable should be used in\n",
    "        inference mode, i.e. don't save the history. See\n",
    "        :ref:`excluding-subgraphs` for more details.\n",
    "        Can be changed only on leaf Variables.\n",
    "    is_leaf: Boolean indicating if the Variable is a graph leaf (i.e\n",
    "        if it was created by the user).\n",
    "    grad_fn: Gradient function graph trace."
   ]
  },
  {
   "cell_type": "code",
   "execution_count": null,
   "metadata": {},
   "outputs": [],
   "source": []
  }
 ],
 "metadata": {
  "kernelspec": {
   "display_name": "Python 3",
   "language": "python",
   "name": "python3"
  },
  "language_info": {
   "codemirror_mode": {
    "name": "ipython",
    "version": 3
   },
   "file_extension": ".py",
   "mimetype": "text/x-python",
   "name": "python",
   "nbconvert_exporter": "python",
   "pygments_lexer": "ipython3",
   "version": "3.6.3"
  }
 },
 "nbformat": 4,
 "nbformat_minor": 2
}
